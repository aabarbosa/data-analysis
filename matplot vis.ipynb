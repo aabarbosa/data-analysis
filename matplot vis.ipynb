{
 "cells": [
  {
   "cell_type": "markdown",
   "metadata": {},
   "source": [
    "## Visualizing Youtube activity from Google Takeout\n",
    "\n",
    "The Google Takeout contains your YouTube activity. Would this data be used to improve time management?\n",
    "\n",
    "Questions and motivations:\n",
    "\n",
    "    Which year would be recognized as the most relevant?"
   ]
  },
  {
   "cell_type": "code",
   "execution_count": 1,
   "metadata": {},
   "outputs": [],
   "source": [
    "%store -r dataset"
   ]
  },
  {
   "cell_type": "code",
   "execution_count": 32,
   "metadata": {},
   "outputs": [
    {
     "data": {
      "text/plain": [
       "[[('publishedAt', '2019-05-18T15:27:08.000Z'),\n",
       "  ('title',\n",
       "   'Epic & Inspiring Music Playlist | 2 Hours Mix | June 2018 | #EntVibes'),\n",
       "  ('videoPublishedAt', '2018-06-23T16:00:03.000Z')],\n",
       " [('publishedAt', '2019-05-17T02:27:06.000Z'),\n",
       "  ('title', 'GDB'),\n",
       "  ('videoPublishedAt', '2015-10-08T02:18:23.000Z')],\n",
       " [('publishedAt', '2019-05-17T01:35:54.000Z'),\n",
       "  ('title', 'FISH (Friendly Interactive Shell) by Bash Boomer'),\n",
       "  ('videoPublishedAt', '2019-01-16T17:34:32.000Z')],\n",
       " [('publishedAt', '2019-05-15T23:32:01.000Z'),\n",
       "  ('title', 'SED Using an Ampersand to Match Strings   Linux Shell   BASH'),\n",
       "  ('videoPublishedAt', '2013-09-09T16:00:11.000Z')]]"
      ]
     },
     "execution_count": 32,
     "metadata": {},
     "output_type": "execute_result"
    }
   ],
   "source": [
    "dataset"
   ]
  },
  {
   "cell_type": "code",
   "execution_count": 33,
   "metadata": {},
   "outputs": [
    {
     "name": "stdout",
     "output_type": "stream",
     "text": [
      "Epic & Inspiring Music Playlist | 2 Hours Mix | June 2018 | #EntVibes\n",
      "GDB\n",
      "FISH (Friendly Interactive Shell) by Bash Boomer\n",
      "SED Using an Ampersand to Match Strings   Linux Shell   BASH\n"
     ]
    }
   ],
   "source": [
    "for e in dataset: print(e[1][1])"
   ]
  },
  {
   "cell_type": "code",
   "execution_count": 9,
   "metadata": {},
   "outputs": [],
   "source": [
    "a=[e[2] for e in dataset]"
   ]
  },
  {
   "cell_type": "code",
   "execution_count": 10,
   "metadata": {},
   "outputs": [
    {
     "data": {
      "text/plain": [
       "[('videoPublishedAt', '2018-06-23T16:00:03.000Z'),\n",
       " ('videoPublishedAt', '2015-10-08T02:18:23.000Z'),\n",
       " ('videoPublishedAt', '2019-01-16T17:34:32.000Z'),\n",
       " ('videoPublishedAt', '2013-09-09T16:00:11.000Z')]"
      ]
     },
     "execution_count": 10,
     "metadata": {},
     "output_type": "execute_result"
    }
   ],
   "source": [
    "a"
   ]
  },
  {
   "cell_type": "code",
   "execution_count": 14,
   "metadata": {},
   "outputs": [
    {
     "data": {
      "text/plain": [
       "<Figure size 432x288 with 0 Axes>"
      ]
     },
     "execution_count": 14,
     "metadata": {},
     "output_type": "execute_result"
    }
   ],
   "source": [
    "import matplotlib.pyplot as ppt\n",
    "fig = ppt.Figure()\n",
    "fig"
   ]
  },
  {
   "cell_type": "code",
   "execution_count": 51,
   "metadata": {},
   "outputs": [],
   "source": [
    "dates = np.array([e[0][1] for e in dataset])"
   ]
  },
  {
   "cell_type": "code",
   "execution_count": 59,
   "metadata": {},
   "outputs": [
    {
     "ename": "TypeError",
     "evalue": "an integer is required (got type str)",
     "output_type": "error",
     "traceback": [
      "\u001b[0;31m---------------------------------------------------------------------------\u001b[0m",
      "\u001b[0;31mTypeError\u001b[0m                                 Traceback (most recent call last)",
      "\u001b[0;32m<ipython-input-59-58dece2c3982>\u001b[0m in \u001b[0;36m<module>\u001b[0;34m\u001b[0m\n\u001b[1;32m      1\u001b[0m \u001b[0;32mimport\u001b[0m \u001b[0mdatetime\u001b[0m \u001b[0;32mas\u001b[0m \u001b[0mdate\u001b[0m\u001b[0;34m\u001b[0m\u001b[0;34m\u001b[0m\u001b[0m\n\u001b[0;32m----> 2\u001b[0;31m \u001b[0mdate\u001b[0m\u001b[0;34m.\u001b[0m\u001b[0mdate\u001b[0m\u001b[0;34m(\u001b[0m\u001b[0;34m'2018-06-23T16:00:03.000Z'\u001b[0m\u001b[0;34m)\u001b[0m\u001b[0;34m\u001b[0m\u001b[0;34m\u001b[0m\u001b[0m\n\u001b[0m\u001b[1;32m      3\u001b[0m \u001b[0;34m\u001b[0m\u001b[0m\n",
      "\u001b[0;31mTypeError\u001b[0m: an integer is required (got type str)"
     ]
    }
   ],
   "source": [
    "import datetime as date\n",
    "date.date('2018-06-23T16:00:03.000Z')\n",
    "\n",
    "i\n"
   ]
  },
  {
   "cell_type": "code",
   "execution_count": 50,
   "metadata": {},
   "outputs": [
    {
     "data": {
      "image/png": "[encoded data removed]",
      "text/plain": [
       "<Figure size 432x288 with 1 Axes>"
      ]
     },
     "metadata": {
      "needs_background": "light"
     },
     "output_type": "display_data"
    }
   ],
   "source": [
    "ppt.bar([1,2,3,4], [e[0][1] for e in dataset])\n",
    "ppt.show() "
   ]
  },
  {
   "cell_type": "code",
   "execution_count": null,
   "metadata": {},
   "outputs": [],
   "source": [
    "ppt.Axes(fig)"
   ]
  },
  {
   "cell_type": "code",
   "execution_count": 24,
   "metadata": {},
   "outputs": [],
   "source": [
    "ppt.Axes??\n",
    "\n"
   ]
  },
  {
   "cell_type": "code",
   "execution_count": null,
   "metadata": {},
   "outputs": [],
   "source": [
    "import pandas as pd\n",
    "\n",
    "\n",
    "\n"
   ]
  }
 ],
 "metadata": {
  "kernelspec": {
   "display_name": "Python 3",
   "language": "python",
   "name": "python3"
  },
  "language_info": {
   "codemirror_mode": {
    "name": "ipython",
    "version": 3
   },
   "file_extension": ".py",
   "mimetype": "text/x-python",
   "name": "python",
   "nbconvert_exporter": "python",
   "pygments_lexer": "ipython3",
   "version": "3.7.3"
  }
 },
 "nbformat": 4,
 "nbformat_minor": 2
}
