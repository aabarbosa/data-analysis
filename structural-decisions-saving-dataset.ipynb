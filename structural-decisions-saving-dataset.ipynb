{
 "cells": [
  {
   "cell_type": "markdown",
   "metadata": {},
   "source": [
    "# Dataset creation and structural decisions for keeping or throwing out Data\n",
    "\n",
    "The data captured from Google have difficult fields, this inicial step do not get rib of those unclear details, we provide a mean to save all available data without losing its details.\n",
    "\n",
    "Furthermore, to reduce the size of the dataset for all the information out of scope by excluding source specificities  not important for data analysis, post exclution of which include service control, mechanical or other issues would be required."
   ]
  }
 ],
 "metadata": {
  "kernelspec": {
   "display_name": "Python 3",
   "language": "python",
   "name": "python3"
  },
  "language_info": {
   "codemirror_mode": {
    "name": "ipython",
    "version": 3
   },
   "file_extension": ".py",
   "mimetype": "text/x-python",
   "name": "python",
   "nbconvert_exporter": "python",
   "pygments_lexer": "ipython3",
   "version": "3.7.3"
  }
 },
 "nbformat": 4,
 "nbformat_minor": 2
}
