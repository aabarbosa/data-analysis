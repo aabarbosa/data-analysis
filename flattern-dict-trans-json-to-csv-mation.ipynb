{
 "cells": [
  {
   "cell_type": "code",
   "execution_count": 46,
   "metadata": {},
   "outputs": [],
   "source": [
    "def flattern(obj, flat={}, prev_keys=''):\n",
    "    \"\"\"\n",
    "    Turns flat the nested object.\n",
    "    \"\"\"\n",
    "    if isinstance(obj, dict):\n",
    "        for curr_key in obj.keys():\n",
    "            flat = flattern(obj[curr_key],flat, \n",
    "             prev_keys+\".\"+curr_key if prev_keys != '' else curr_key)\n",
    "    else:\n",
    "        flat[prev_keys] = obj\n",
    "        \n",
    "    return flat   "
   ]
  },
  {
   "cell_type": "code",
   "execution_count": 49,
   "metadata": {},
   "outputs": [
    {
     "data": {
      "text/plain": [
       "{'name.sex': 'female', 'name.age': [{'first': 26}], 'code': 233}"
      ]
     },
     "execution_count": 49,
     "metadata": {},
     "output_type": "execute_result"
    }
   ],
   "source": [
    "obj = {\"name\": {\"sex\": 'female', \"age\":[{\"first\":26}]}, \"code\":233}\n",
    "rr=flattern(obj)\n",
    "rr\n",
    "\n"
   ]
  }
 ],
 "metadata": {
  "kernelspec": {
   "display_name": "Python 3",
   "language": "python",
   "name": "python3"
  },
  "language_info": {
   "codemirror_mode": {
    "name": "ipython",
    "version": 3
   },
   "file_extension": ".py",
   "mimetype": "text/x-python",
   "name": "python",
   "nbconvert_exporter": "python",
   "pygments_lexer": "ipython3",
   "version": "3.7.3"
  }
 },
 "nbformat": 4,
 "nbformat_minor": 2
}
