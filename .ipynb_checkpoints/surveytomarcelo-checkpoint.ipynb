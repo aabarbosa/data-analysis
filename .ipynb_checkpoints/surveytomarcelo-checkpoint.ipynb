{
 "cells": [
  {
   "cell_type": "markdown",
   "metadata": {},
   "source": [
    "# Surveying Rhythm Games or Musicals"
   ]
  },
  {
   "cell_type": "markdown",
   "metadata": {},
   "source": [
    "Attending Prof. Marcelo Barros, this summary is up to 100 words of description for each of the 5 Games that we believe let a legacy in the History of Games."
   ]
  },
  {
   "cell_type": "markdown",
   "metadata": {},
   "source": [
    "> We listed important features to classify the games accordingly"
   ]
  },
  {
   "cell_type": "markdown",
   "metadata": {},
   "source": [
    "<img src=\"./guitar/survaying.png\">"
   ]
  },
  {
   "cell_type": "markdown",
   "metadata": {
    "rocksmith": "description"
   },
   "source": [
    "# Rocksmith\n",
    "\n",
    "<img src=\"./guitar/rocksmith.jpg\">\n",
    "\n",
    "This fantastic game is within all benefits to imerse the player for learning Guitar. The classic scenario and a variety of songs make the game adequate to every public able to lift the weight of a guitar. The game comes with a hot Plug to the Console, and a stick for tutoring. Fast learning and easy configuration are expandable features on this fantastic game.\n",
    "\n",
    "<img src=\"./guitar/rocksmith3nd.jpg\">"
   ]
  },
  {
   "cell_type": "markdown",
   "metadata": {},
   "source": [
    "# GuitarTricks\n",
    "GuitarTricks has a interesting trainer mode, but available only paying members. It is played on chosing the correct note. As an example, the question mark is on the A string at fret 1, and you have to click on which note you think it is. \n",
    "<img src=\"../tmp/guitar/guitarticks.jpg\">\n",
    "Your answers are timed and stored, so you can compete against other GuitarTricks members:\n",
    "games-guitartricks-fretboard-trainer-scores. \n",
    "\n",
    "What's your score you can check Sign up for a GuitarTricks membership, or having a look at their free trial membership."
   ]
  },
  {
   "cell_type": "markdown",
   "metadata": {},
   "source": [
    "# Options for PC"
   ]
  },
  {
   "cell_type": "markdown",
   "metadata": {},
   "source": [
    "# GuitarGames.net\n",
    "For PC option, Guitargames.net has awesome games, but they are not that high quality as you might expect nowadays. The games seem a bit random and don't really have any structure or unified branding, which makes me think they were collected from other websites. Either way, you can register for a free account and check it out.\n"
   ]
  },
  {
   "cell_type": "markdown",
   "metadata": {},
   "source": [
    "# DouglasNiedt.com\n",
    "This website has 8 Flash based online guitar games for you to try. The games are not fancy by any means, nor are they simple, but they can be effective if you want to learn guitar theory.\n",
    "\n",
    "This site is more for the intermediate to advanced player, who wants exercises to test and further his knowledge. Check it out: http://douglasniedt.com/guitartheoryandeartraining.html\n",
    "\n",
    "So there you have it, several guitar games to get you learning. There are different instances where you would want to use each type, for example the full fledged console games act as entire guitar lesson courses, while the more targeted games will be able to help you with specific areas of the guitar."
   ]
  },
  {
   "cell_type": "markdown",
   "metadata": {},
   "source": [
    "# JamPlay games\n",
    "\n",
    "JamPlay has 4 well made guitar games, which can really help in learning guitar theory and developing your ear. The games they have are:\n",
    "Fretboard memorization: A level based, timed game to test your knowledge of the fretboard. The game starts out easier, and gets harder and harder as your progress. If the timer runs out, the game ends.\n",
    "Music notation quizzer: The game will train you to recognize the various symbols used on sheet music.\n",
    "Note identification: Transition from tabs to music sheets with this game.\n",
    "Pitch recognition: This is an ear training game, and will teach you to identify intervals between 2 notes.\n"
   ]
  },
  {
   "cell_type": "markdown",
   "metadata": {},
   "source": [
    "# Checking number of lines "
   ]
  },
  {
   "cell_type": "code",
   "execution_count": 1,
   "metadata": {},
   "outputs": [],
   "source": [
    "def get_nb(nb_path):\n",
    "    \"\"\" \n",
    "    Load Jupyter notebook from filepath\n",
    "    \n",
    "    Ex: \n",
    "    @code `get_nb(\"../lab/Untitled.ipynb\")`\n",
    "    \"\"\"\n",
    "    from IPython.nbformat import current\n",
    "    import io\n",
    "    with io.open(nb_path, 'r', encoding='utf-8') as f:\n",
    "        notebook = current.read(f, 'json')\n",
    "    return notebook\n",
    "\n",
    "def get_nbworksheet(nb):\n",
    "    return nb.worsheets\n",
    "    \n",
    "def get_nbcell(nb):\n",
    "    return nb.worksheets.cells\n",
    "    "
   ]
  },
  {
   "cell_type": "code",
   "execution_count": 3,
   "metadata": {
    "scrolled": true
   },
   "outputs": [
    {
     "name": "stdout",
     "output_type": "stream",
     "text": [
      "500\n"
     ]
    }
   ],
   "source": [
    "nb = get_nb(\"../lab/surveytomarcelo.ipynb\")\n",
    "\n",
    "\n",
    "word_count = 0 # More Options \n",
    "for cell in nb.worksheets[0].cells:\n",
    "    if cell.cell_type == \"markdown\":\n",
    "        word_count += len(cell['source'].replace('#', '').lstrip().split(' '))\n",
    "print(word_count)"
   ]
  },
  {
   "cell_type": "markdown",
   "metadata": {},
   "source": []
  },
  {
   "cell_type": "markdown",
   "metadata": {},
   "source": [
    "# Consideration\n",
    "This will make you sit up and leave your chair to buy an Electric Guitar. Never letting the prodigy fade away, don't you imagine how life hurts those who won't get dreams but have them? My society work towards them."
   ]
  }
 ],
 "metadata": {
  "celltoolbar": "Edit Metadata",
  "kernelspec": {
   "display_name": "Python 3",
   "language": "python",
   "name": "python3"
  },
  "language_info": {
   "codemirror_mode": {
    "name": "ipython",
    "version": 3
   },
   "file_extension": ".py",
   "mimetype": "text/x-python",
   "name": "python",
   "nbconvert_exporter": "python",
   "pygments_lexer": "ipython3",
   "version": "3.7.3"
  }
 },
 "nbformat": 4,
 "nbformat_minor": 2
}
