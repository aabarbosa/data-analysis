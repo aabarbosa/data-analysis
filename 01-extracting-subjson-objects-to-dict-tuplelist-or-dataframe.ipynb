{
 "cells": [
  {
   "cell_type": "markdown",
   "metadata": {},
   "source": [
    "### Algorithm to extract JSON objects recursively \n",
    "\n"
   ]
  },
  {
   "cell_type": "markdown",
   "metadata": {},
   "source": [
    "Simple notebook for support other data manipulation, consider to use 'import json' and json.dump as it transforms the nested in a Python object, as following.\n",
    "\n",
    "- [x] Extract keys of nested JSON, recursively\n",
    "- [ ] Summarize the structure of a nested JSON (2)\n",
    "\n",
    "[image](./img/object.gif \"segment\")"
   ]
  },
  {
   "cell_type": "code",
   "execution_count": 1,
   "metadata": {},
   "outputs": [],
   "source": [
    "def extract(obj, key):\n",
    "    \"\"\"\n",
    "    Read JSON obj recursively to find the key and \n",
    "    return its values for all occurences of key in `obj`.\n",
    "    \n",
    "    Warning: It can be a sub_obj if key:<dict> type\n",
    "    or ignored if key is a index, thus `obj` as a dict \n",
    "    prevents the bypass of `s_obj` @seeline 9, 1: r=[].\n",
    "    \"\"\"\n",
    "    r=[]\n",
    "    def extract(obj, key, r):\n",
    "        if isinstance(obj,(dict)):\n",
    "            for k,v in obj.items():\n",
    "                if k == key:\n",
    "                    return r.append(v)\n",
    "                else:\n",
    "                    extract(v,key,r)\n",
    "        elif isinstance(obj,(list)):\n",
    "            for v in obj:\n",
    "                extract(v, key, r)\n",
    "    extract(obj,key,r)\n",
    "    return r\n",
    "    "
   ]
  },
  {
   "cell_type": "code",
   "execution_count": 2,
   "metadata": {},
   "outputs": [
    {
     "data": {
      "text/plain": [
       "['John', 'Marie']"
      ]
     },
     "execution_count": 2,
     "metadata": {},
     "output_type": "execute_result"
    }
   ],
   "source": [
    "person = {1: {'name': 'John', 'age': '28', 'sex': 'Male'}, 2: {'name': 'Marie', 'age': '22', 'sex': 'Female'}}\n",
    "\n",
    "extract(person,\"name\")"
   ]
  },
  {
   "cell_type": "markdown",
   "metadata": {},
   "source": [
    "### Making nested structures futhermore \n",
    "- [ ] Give proper substructure to the following algoritm by (2) "
   ]
  },
  {
   "cell_type": "raw",
   "metadata": {},
   "source": [
    "# Note: For found values, the search continues for other keys within both list or dict."
   ]
  },
  {
   "cell_type": "code",
   "execution_count": 3,
   "metadata": {},
   "outputs": [],
   "source": [
    "def extract_values(iobj, key, default=''):\n",
    "    \"\"\"\n",
    "    Extract all values of `key` from `iobj`.\n",
    "    \n",
    "    iobj   : Independent object, entity or profile, \n",
    "            probably within JSON.\n",
    "    key    : set of key,\n",
    "            probably from a dict.\n",
    "    default: Default indicator for missing values. \n",
    "    \"\"\"\n",
    "    return [unbox(extract(iobj, k),default) for k in key]\n",
    "def extract_pairs(u_obj, keys):\n",
    "    \"\"\"\n",
    "    Extract all pairs `(key, values)` from `keys` indicator.\n",
    "    \n",
    "    u_obj: to be re-structured within @extract_nested()\n",
    "    keys : subset of @keys() in u_obj\n",
    "    \"\"\"\n",
    "    pairs = []\n",
    "    for k in keys:\n",
    "        pairs.append((k, unbox(extract(u_obj, k),'')))\n",
    "    return pairs"
   ]
  },
  {
   "cell_type": "code",
   "execution_count": 4,
   "metadata": {},
   "outputs": [],
   "source": [
    "def extract_nested_values(obj, location, fields):\n",
    "    \"\"\"\n",
    "    Extract specific values from extracted independent object,\n",
    "    and add it to a list.\n",
    "\n",
    "    obj     : a parsed JSON Python object or objects\n",
    "    location: <list> keys to start this extraction,\n",
    "    fields  : <list> keys to extact its values in `obj`,\n",
    "    \n",
    "    return  : [(key, values), ...]\n",
    "    \"\"\"\n",
    "    ss_objs=[] # sub_sub_objects\n",
    "    for loc in location:\n",
    "        s_obj=extract(obj, loc)\n",
    "        ss_objs.append(extract_values(s_obj, fields))\n",
    "    return ss_objs\n",
    "\n",
    "def extract_nested_pairs(obj, location, fields):\n",
    "    \"\"\"\n",
    "    Extract specific fields, and add it to a tuple of pairs \n",
    "    i.e, apply extract_pairs for located JSON objects.\n",
    "\n",
    "    obj     : a parsed JSON Python object or objects\n",
    "    location: <list> keys to start this extraction,\n",
    "    fields  : <list> keys to extact its values in `obj`,\n",
    "    \n",
    "    return  : [(key, values), ...]\n",
    "    \"\"\"\n",
    "    ss_objs=[] # sub_sub_objects\n",
    "    for loc in location:\n",
    "        s_obj=extract(obj, loc)\n",
    "        ss_objs.append(extract_pairs(s_obj, fields))\n",
    "    return ss_objs"
   ]
  },
  {
   "cell_type": "code",
   "execution_count": 7,
   "metadata": {},
   "outputs": [
    {
     "data": {
      "text/plain": [
       "[[('name', 'John'), ('sex', 'Male')], [('name', 'Marie'), ('sex', 'Female')]]"
      ]
     },
     "execution_count": 7,
     "metadata": {},
     "output_type": "execute_result"
    }
   ],
   "source": [
    "extract_nested_pairs(person, [1,2], ['name','sex'])"
   ]
  },
  {
   "cell_type": "markdown",
   "metadata": {},
   "source": [
    "### Conclusions\n",
    "\n",
    "    If used correctly, the algoritms works in nested JSON with bilions of entries (without effecting its processing speed). As demonstrated in extract pairs and nested functions, the problem would be broken applying the step in the extract algorithm (recursively).\n",
    "\n",
    "Sub-notes: I choose tuples for simplicity with matplotlib in the posterior work, althugh dict or even list could also be used effectively. You have to edit the code."
   ]
  },
  {
   "cell_type": "code",
   "execution_count": 6,
   "metadata": {},
   "outputs": [],
   "source": [
    "# Parameters already atributed to values are shifted to the end of the function parameter's. \n",
    "def extract_df(obj, keys, loc = None):\n",
    "    \"\"\"\n",
    "    Add dataframe on the top of extract nested.\n",
    "    \n",
    "    Action: Parse [(key, values), ...] to a pandas dataframe.\n",
    "    see @extract_nested \n",
    "    \n",
    "    if not specified `loc`, it considers\n",
    "    its locator as list (the range of index in `obj`).\n",
    "    \"\"\"\n",
    "    import pandas as pd\n",
    "    \n",
    "    loc = range(len(obj)) if loc == None else loc\n",
    "    \n",
    "    new_obj=extract_nested_values(obj, loc, keys)\n",
    "    df = pd.DataFrame.from_records(new_obj, columns = keys)\n",
    "    \n",
    "    return df\n"
   ]
  }
 ],
 "metadata": {
  "kernelspec": {
   "display_name": "Python 3",
   "language": "python",
   "name": "python3"
  },
  "language_info": {
   "codemirror_mode": {
    "name": "ipython",
    "version": 3
   },
   "file_extension": ".py",
   "mimetype": "text/x-python",
   "name": "python",
   "nbconvert_exporter": "python",
   "pygments_lexer": "ipython3",
   "version": "3.7.3"
  }
 },
 "nbformat": 4,
 "nbformat_minor": 2
}
