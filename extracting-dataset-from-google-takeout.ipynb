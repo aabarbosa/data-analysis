{
 "cells": [
  {
   "cell_type": "markdown",
   "metadata": {},
   "source": [
    "## This notebook documents the steps to extract the dataset from a JSON file\n",
    "\n",
    "Let's start by stating tasks before coding the bills. \n",
    "\n",
    "- [x]investigate zip file from gtakeout\n",
    "\n",
    " "
   ]
  },
  {
   "cell_type": "code",
   "execution_count": 1,
   "metadata": {},
   "outputs": [
    {
     "data": {
      "text/plain": [
       "'/root/engineering/data-analysis'"
      ]
     },
     "execution_count": 1,
     "metadata": {},
     "output_type": "execute_result"
    }
   ],
   "source": [
    "pwd"
   ]
  },
  {
   "cell_type": "code",
   "execution_count": 2,
   "metadata": {},
   "outputs": [
    {
     "name": "stdout",
     "output_type": "stream",
     "text": [
      "/root/Downloads\n"
     ]
    }
   ],
   "source": [
    "cd /root/Downloads"
   ]
  },
  {
   "cell_type": "code",
   "execution_count": 3,
   "metadata": {},
   "outputs": [
    {
     "name": "stdout",
     "output_type": "stream",
     "text": [
      "'CALENDARIO UFCG-2019.1.pdf'\n",
      "'David M. Beazley - Advanced Python Programming (2000, O'\\''Reilly).pdf'\n",
      " howtofindlostobjects.pdf\n",
      " japaninanutshell.pdf\n",
      " takeout-20190518T210332Z-001.zip\n",
      "'The Wolf of Wall Street 2013 720p BluRay x264 AAC - Ozlem'\n",
      "'Wim Hof, Koen De Jong - The Way of the Iceman (2017, Dragondoor).epub'\n",
      "Archive:  takeout-20190518T210332Z-001.zip\n",
      "  inflating: Takeout/YouTube/subscriptions/subscriptions.json  \n",
      "  inflating: Takeout/YouTube/playlists/likes.json  \n",
      "  inflating: Takeout/YouTube/playlists/productivity-songs.json  \n",
      "  inflating: Takeout/YouTube/playlists/uploads.json  \n",
      "  inflating: Takeout/YouTube/playlists/watch-later.json  \n",
      "  inflating: Takeout/YouTube/history/search-history.html  \n",
      "  inflating: Takeout/YouTube/history/watch-history.html  \n",
      "  inflating: Takeout/archive_browser.html  \n"
     ]
    }
   ],
   "source": [
    "!ls\n",
    "!unzip takeout-20190518T210332Z-001.zip"
   ]
  },
  {
   "cell_type": "code",
   "execution_count": 4,
   "metadata": {},
   "outputs": [
    {
     "name": "stdout",
     "output_type": "stream",
     "text": [
      "mv: cannot move 'Takeout' to '/root/engineering/data-analysis/Takeout': Directory not empty\r\n"
     ]
    }
   ],
   "source": [
    "!mv Takeout '/root/engineering/data-analysis'"
   ]
  },
  {
   "cell_type": "code",
   "execution_count": 5,
   "metadata": {},
   "outputs": [
    {
     "name": "stdout",
     "output_type": "stream",
     "text": [
      "/root/engineering/data-analysis\n"
     ]
    }
   ],
   "source": [
    "cd '/root/engineering/data-analysis'"
   ]
  },
  {
   "cell_type": "code",
   "execution_count": 6,
   "metadata": {},
   "outputs": [
    {
     "name": "stdout",
     "output_type": "stream",
     "text": [
      "search-history.html  watch-history.html\r\n"
     ]
    }
   ],
   "source": [
    "ls Takeout/YouTube/history/"
   ]
  },
  {
   "cell_type": "code",
   "execution_count": 7,
   "metadata": {},
   "outputs": [
    {
     "name": "stdout",
     "output_type": "stream",
     "text": [
      "\u001b[0m\u001b[01;32mda.0102.ipynb\u001b[0m*                                 \u001b[01;34mimg\u001b[0m/\r\n",
      "extracting-dataset-from-google-takeout.ipynb   \u001b[01;34mTakeout\u001b[0m/\r\n",
      "extracting-fields-from-json-recursively.ipynb  Untitled.ipynb\r\n"
     ]
    }
   ],
   "source": [
    "ls"
   ]
  },
  {
   "cell_type": "markdown",
   "metadata": {},
   "source": [
    "## Extracting relevant informatin from the dataset:  the idea."
   ]
  },
  {
   "cell_type": "code",
   "execution_count": 8,
   "metadata": {
    "scrolled": true
   },
   "outputs": [
    {
     "name": "stdout",
     "output_type": "stream",
     "text": [
      "/root/engineering/data-analysis/Takeout\n"
     ]
    }
   ],
   "source": [
    "cd /root/engineering/data-analysis/Takeout"
   ]
  },
  {
   "cell_type": "code",
   "execution_count": 75,
   "metadata": {},
   "outputs": [],
   "source": [
    "import json\n",
    "\n",
    "with open('./YouTube/playlists/likes.json') as serialized:\n",
    "    likes = json.load(serialized)"
   ]
  },
  {
   "cell_type": "code",
   "execution_count": 10,
   "metadata": {
    "scrolled": true
   },
   "outputs": [
    {
     "name": "stdout",
     "output_type": "stream",
     "text": [
      "FISH (Friendly Interactive Shell) by Bash Boomer\n"
     ]
    }
   ],
   "source": [
    "print(likes[2]['snippet']['title'])"
   ]
  },
  {
   "cell_type": "code",
   "execution_count": 11,
   "metadata": {},
   "outputs": [
    {
     "name": "stdout",
     "output_type": "stream",
     "text": [
      "2019-01-16T17:34:32.000Z\n"
     ]
    }
   ],
   "source": [
    "print(likes[2]['contentDetails']['videoPublishedAt'])"
   ]
  },
  {
   "cell_type": "code",
   "execution_count": 31,
   "metadata": {},
   "outputs": [],
   "source": [
    "dataset=[]\n",
    "for l in likes:\n",
    "    dataset.append(extract_pairs(l, [\"publishedAt\", 'title', 'videoPublishedAt']))"
   ]
  },
  {
   "cell_type": "code",
   "execution_count": 69,
   "metadata": {},
   "outputs": [
    {
     "data": {
      "text/plain": [
       "[[('publishedAt', '2019-05-18T15:27:08.000Z'),\n",
       "  ('title',\n",
       "   'Epic & Inspiring Music Playlist | 2 Hours Mix | June 2018 | #EntVibes'),\n",
       "  ('videoPublishedAt', '2018-06-23T16:00:03.000Z')],\n",
       " [('publishedAt', '2019-05-17T02:27:06.000Z'),\n",
       "  ('title', 'GDB'),\n",
       "  ('videoPublishedAt', '2015-10-08T02:18:23.000Z')],\n",
       " [('publishedAt', '2019-05-17T01:35:54.000Z'),\n",
       "  ('title', 'FISH (Friendly Interactive Shell) by Bash Boomer'),\n",
       "  ('videoPublishedAt', '2019-01-16T17:34:32.000Z')],\n",
       " [('publishedAt', '2019-05-15T23:32:01.000Z'),\n",
       "  ('title', 'SED Using an Ampersand to Match Strings   Linux Shell   BASH'),\n",
       "  ('videoPublishedAt', '2013-09-09T16:00:11.000Z')]]"
      ]
     },
     "execution_count": 69,
     "metadata": {},
     "output_type": "execute_result"
    }
   ],
   "source": [
    "dataset"
   ]
  },
  {
   "cell_type": "code",
   "execution_count": 70,
   "metadata": {},
   "outputs": [
    {
     "name": "stdout",
     "output_type": "stream",
     "text": [
      "Stored 'dataset' (list)\n"
     ]
    }
   ],
   "source": [
    "%store dataset\n"
   ]
  },
  {
   "cell_type": "markdown",
   "metadata": {},
   "source": [
    "## Same above using pandas np.arrays "
   ]
  },
  {
   "cell_type": "code",
   "execution_count": 79,
   "metadata": {},
   "outputs": [],
   "source": [
    "import pandas as pd"
   ]
  },
  {
   "cell_type": "code",
   "execution_count": 118,
   "metadata": {},
   "outputs": [],
   "source": [
    "import io\n",
    "with io.open('./YouTube/playlists/likes.json', encoding='utf-8') as stream:\n",
    "    likes_pd = pd.read_json(stream)"
   ]
  },
  {
   "cell_type": "code",
   "execution_count": 103,
   "metadata": {},
   "outputs": [
    {
     "data": {
      "text/html": [
       "<div>\n",
       "<style scoped>\n",
       "    .dataframe tbody tr th:only-of-type {\n",
       "        vertical-align: middle;\n",
       "    }\n",
       "\n",
       "    .dataframe tbody tr th {\n",
       "        vertical-align: top;\n",
       "    }\n",
       "\n",
       "    .dataframe thead th {\n",
       "        text-align: right;\n",
       "    }\n",
       "</style>\n",
       "<table border=\"1\" class=\"dataframe\">\n",
       "  <thead>\n",
       "    <tr style=\"text-align: right;\">\n",
       "      <th></th>\n",
       "      <th>contentDetails</th>\n",
       "      <th>etag</th>\n",
       "      <th>id</th>\n",
       "      <th>kind</th>\n",
       "      <th>snippet</th>\n",
       "      <th>status</th>\n",
       "    </tr>\n",
       "  </thead>\n",
       "  <tbody>\n",
       "    <tr>\n",
       "      <th>0</th>\n",
       "      <td>{'videoId': 'PQ45MeXAFXw', 'videoPublishedAt':...</td>\n",
       "      <td>\"XpPGQXPnxQJhLgs6enD_n8JR4Qk/HRnw-EU6Vy9ahaYTo...</td>\n",
       "      <td>TEwyUVVOZGh5Q3ZsNzNsQmlSWmY2LXlBLlBRNDVNZVhBRlh3</td>\n",
       "      <td>youtube#playlistItem</td>\n",
       "      <td>{'channelId': 'UC2QUNdhyCvl73lBiRZf6-yA', 'cha...</td>\n",
       "      <td>{'privacyStatus': 'public'}</td>\n",
       "    </tr>\n",
       "    <tr>\n",
       "      <th>1</th>\n",
       "      <td>{'videoId': 'y5JmQItfFck', 'videoPublishedAt':...</td>\n",
       "      <td>\"XpPGQXPnxQJhLgs6enD_n8JR4Qk/AvRY6-lsAfWOv0G2d...</td>\n",
       "      <td>TEwyUVVOZGh5Q3ZsNzNsQmlSWmY2LXlBLnk1Sm1RSXRmRmNr</td>\n",
       "      <td>youtube#playlistItem</td>\n",
       "      <td>{'channelId': 'UC2QUNdhyCvl73lBiRZf6-yA', 'cha...</td>\n",
       "      <td>{'privacyStatus': 'public'}</td>\n",
       "    </tr>\n",
       "    <tr>\n",
       "      <th>2</th>\n",
       "      <td>{'videoId': 'C2a7jJTh3kU', 'videoPublishedAt':...</td>\n",
       "      <td>\"XpPGQXPnxQJhLgs6enD_n8JR4Qk/VqS1EiODU4DifExnx...</td>\n",
       "      <td>TEwyUVVOZGh5Q3ZsNzNsQmlSWmY2LXlBLkMyYTdqSlRoM2tV</td>\n",
       "      <td>youtube#playlistItem</td>\n",
       "      <td>{'channelId': 'UC2QUNdhyCvl73lBiRZf6-yA', 'cha...</td>\n",
       "      <td>{'privacyStatus': 'public'}</td>\n",
       "    </tr>\n",
       "    <tr>\n",
       "      <th>3</th>\n",
       "      <td>{'videoId': 'JmEKNUZ8sPk', 'videoPublishedAt':...</td>\n",
       "      <td>\"XpPGQXPnxQJhLgs6enD_n8JR4Qk/j4BgUsEW_EVQu3ZdW...</td>\n",
       "      <td>TEwyUVVOZGh5Q3ZsNzNsQmlSWmY2LXlBLkptRUtOVVo4c1Br</td>\n",
       "      <td>youtube#playlistItem</td>\n",
       "      <td>{'channelId': 'UC2QUNdhyCvl73lBiRZf6-yA', 'cha...</td>\n",
       "      <td>{'privacyStatus': 'public'}</td>\n",
       "    </tr>\n",
       "  </tbody>\n",
       "</table>\n",
       "</div>"
      ],
      "text/plain": [
       "                                      contentDetails  \\\n",
       "0  {'videoId': 'PQ45MeXAFXw', 'videoPublishedAt':...   \n",
       "1  {'videoId': 'y5JmQItfFck', 'videoPublishedAt':...   \n",
       "2  {'videoId': 'C2a7jJTh3kU', 'videoPublishedAt':...   \n",
       "3  {'videoId': 'JmEKNUZ8sPk', 'videoPublishedAt':...   \n",
       "\n",
       "                                                etag  \\\n",
       "0  \"XpPGQXPnxQJhLgs6enD_n8JR4Qk/HRnw-EU6Vy9ahaYTo...   \n",
       "1  \"XpPGQXPnxQJhLgs6enD_n8JR4Qk/AvRY6-lsAfWOv0G2d...   \n",
       "2  \"XpPGQXPnxQJhLgs6enD_n8JR4Qk/VqS1EiODU4DifExnx...   \n",
       "3  \"XpPGQXPnxQJhLgs6enD_n8JR4Qk/j4BgUsEW_EVQu3ZdW...   \n",
       "\n",
       "                                                 id                  kind  \\\n",
       "0  TEwyUVVOZGh5Q3ZsNzNsQmlSWmY2LXlBLlBRNDVNZVhBRlh3  youtube#playlistItem   \n",
       "1  TEwyUVVOZGh5Q3ZsNzNsQmlSWmY2LXlBLnk1Sm1RSXRmRmNr  youtube#playlistItem   \n",
       "2  TEwyUVVOZGh5Q3ZsNzNsQmlSWmY2LXlBLkMyYTdqSlRoM2tV  youtube#playlistItem   \n",
       "3  TEwyUVVOZGh5Q3ZsNzNsQmlSWmY2LXlBLkptRUtOVVo4c1Br  youtube#playlistItem   \n",
       "\n",
       "                                             snippet  \\\n",
       "0  {'channelId': 'UC2QUNdhyCvl73lBiRZf6-yA', 'cha...   \n",
       "1  {'channelId': 'UC2QUNdhyCvl73lBiRZf6-yA', 'cha...   \n",
       "2  {'channelId': 'UC2QUNdhyCvl73lBiRZf6-yA', 'cha...   \n",
       "3  {'channelId': 'UC2QUNdhyCvl73lBiRZf6-yA', 'cha...   \n",
       "\n",
       "                        status  \n",
       "0  {'privacyStatus': 'public'}  \n",
       "1  {'privacyStatus': 'public'}  \n",
       "2  {'privacyStatus': 'public'}  \n",
       "3  {'privacyStatus': 'public'}  "
      ]
     },
     "execution_count": 103,
     "metadata": {},
     "output_type": "execute_result"
    }
   ],
   "source": [
    "likes_pd"
   ]
  },
  {
   "cell_type": "code",
   "execution_count": 117,
   "metadata": {
    "collapsed": true
   },
   "outputs": [
    {
     "name": "stdout",
     "output_type": "stream",
     "text": [
      "✎ Epic & Inspiring Music Playlist - June 2018! Be more productive at work with this playlist that science says will help you!\n",
      "\n",
      "✎ For those interested in the data behind this here is a quick infographic from FastCompany: \n",
      "* Classical music: stimulates creativity and brain activity\n",
      "* Music with a beat/techno/trance: productivity for office workers\n",
      "* More here: http://www.fastcompany.com/3030955/the-future-of-work/this-infographic-will-tell-you-what-music-you-should-listen-to-at-work\n",
      "\n",
      "✎ Some more of the research:\n",
      "* Playing music at work can improve your mood: http://pom.sagepub.com/content/33/2/173\n",
      "* \"Low-information-load\" music - simple tunes without a lot of complexity - have the strongest positive effect on cognitive skill: http://www.amsciepub.com/doi/abs/10.2466/pms.1989.69.2.531?journalCode=pms\n",
      "* Surgeons work more accurately when the music they liked was playing in the background - music they didn't' like was second best, and no music was least helpful of all: http://jama.jamanetwork.com/article.aspx?articleid=379309\n",
      "* Music can boost your levels of the neurotransmitter dopamine, a brain chemical that can help people focus: http://edition.cnn.com/2009/LIVING/worklife/03/23/cb.tuned.in.at.work/index.html?iref=24hours\n",
      "\n",
      "♛ BUY MY BOOKS, CHANGE YOUR LIFE  ♛\n",
      "Some used the ideas in these books to build multi-billion-dollar businesses. I'll give you the simple-yet-powerful formula that they used (and you can) to realize your dreams. Get yours.\n",
      "http://www.evancarmichael.com/oneword/\n",
      "http://www.evancarmichael.com/top10/\n",
      "\n",
      "✉  JOIN MY #BELIEVE NEWSLETTER  ✉\n",
      "This is the best way to have entrepreneur gold delivered to your inbox, and to be inspired, encouraged and supported in your business. Join #BelieveNation and feel the love. \n",
      "http://www.evancarmichael.com/newsletter/\n",
      "\n",
      "⚑ SUBSCRIBE TO MY CHANNEL ⚑\n",
      "If you want to do great things you need to have a great environment. Create one by subbing and watching daily. \n",
      "http://www.youtube.com/subscription_center?add_user=Modelingthemasters\n",
      "\n",
      "¿  COMMON QUESTIONS  ¿\n",
      "• What is #BTA?: https://www.youtube.com/watch?v=BsY8bmTUVP8\n",
      "• How do I get one of Evan's t-shirts?: http://evancarmichael.com/gear\n",
      "• Why does Evan look like Nicolas Cage?: https://www.youtube.com/watch?v=gZHRniTcRwo\n",
      "• Why does Evan make so many videos? https://www.youtube.com/watch?v=NEKxGA8xr1k\n",
      "• How do I vote for the next Top 10 video Evan should make?\n",
      "https://www.youtube.com/watch?v=0arZb0xLIDM\n",
      "\n",
      "ツ  CONNECT WITH ME  ツ\n",
      "Leave a comment on this video and it'll get a response. Or you can connect with me on different social platforms too:\n",
      "• Instagram: https://www.instagram.com/evancarmichael/\n",
      "• Twitter: https://twitter.com/evancarmichael\n",
      "• Facebook: https://www.facebook.com/EvanCarmichaelcom\n",
      "• Website: http://www.evancarmichael.com \n",
      "\n",
      "-----------------------------------------------------------------------------\n",
      "\n",
      "Thank you for watching - I really appreciate it :)\n",
      "Cheers,\n",
      "Evan\n",
      "#Believe\n"
     ]
    }
   ],
   "source": [
    "print(likes_pd.get('snippet')[0]['description'])"
   ]
  },
  {
   "cell_type": "code",
   "execution_count": 111,
   "metadata": {},
   "outputs": [
    {
     "data": {
      "text/plain": [
       "0    {'channelId': 'UC2QUNdhyCvl73lBiRZf6-yA', 'cha...\n",
       "1    {'channelId': 'UC2QUNdhyCvl73lBiRZf6-yA', 'cha...\n",
       "2    {'channelId': 'UC2QUNdhyCvl73lBiRZf6-yA', 'cha...\n",
       "3    {'channelId': 'UC2QUNdhyCvl73lBiRZf6-yA', 'cha...\n",
       "Name: snippet, dtype: object"
      ]
     },
     "execution_count": 111,
     "metadata": {},
     "output_type": "execute_result"
    }
   ],
   "source": [
    "likes_pd.get('snippet')"
   ]
  },
  {
   "cell_type": "code",
   "execution_count": 119,
   "metadata": {},
   "outputs": [
    {
     "data": {
      "text/plain": [
       "pandas.core.frame.DataFrame"
      ]
     },
     "execution_count": 119,
     "metadata": {},
     "output_type": "execute_result"
    }
   ],
   "source": [
    "type(likes_pd)"
   ]
  },
  {
   "cell_type": "code",
   "execution_count": 130,
   "metadata": {},
   "outputs": [],
   "source": [
    "import pandas as pd\n",
    "import numpy as np"
   ]
  },
  {
   "cell_type": "code",
   "execution_count": null,
   "metadata": {},
   "outputs": [],
   "source": []
  }
 ],
 "metadata": {
  "kernelspec": {
   "display_name": "Python 3",
   "language": "python",
   "name": "python3"
  },
  "language_info": {
   "codemirror_mode": {
    "name": "ipython",
    "version": 3
   },
   "file_extension": ".py",
   "mimetype": "text/x-python",
   "name": "python",
   "nbconvert_exporter": "python",
   "pygments_lexer": "ipython3",
   "version": "3.7.3"
  }
 },
 "nbformat": 4,
 "nbformat_minor": 2
}
